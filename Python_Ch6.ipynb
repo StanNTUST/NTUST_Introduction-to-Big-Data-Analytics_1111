{
 "cells": [
  {
   "cell_type": "markdown",
   "metadata": {
    "id": "F3RxTg4qWBiq"
   },
   "source": [
    "範例1"
   ]
  },
  {
   "cell_type": "code",
   "execution_count": 1,
   "metadata": {
    "colab": {
     "base_uri": "https://localhost:8080/",
     "height": 34
    },
    "id": "kc1PIs19WBiu",
    "outputId": "2b6c2aef-137b-4016-df74-1ce1291692f8"
   },
   "outputs": [
    {
     "data": {
      "text/plain": [
       "False"
      ]
     },
     "execution_count": 1,
     "metadata": {},
     "output_type": "execute_result"
    }
   ],
   "source": [
    "a = 10\n",
    "b = 20\n",
    "a > b"
   ]
  },
  {
   "cell_type": "markdown",
   "metadata": {
    "id": "kxU3fL1nWBiy"
   },
   "source": [
    "範例2"
   ]
  },
  {
   "cell_type": "code",
   "execution_count": 2,
   "metadata": {
    "colab": {
     "base_uri": "https://localhost:8080/",
     "height": 34
    },
    "id": "VLbFGAl5WBiz",
    "outputId": "c950ec61-660e-4b74-f109-adc1383e2b07"
   },
   "outputs": [
    {
     "data": {
      "text/plain": [
       "True"
      ]
     },
     "execution_count": 2,
     "metadata": {},
     "output_type": "execute_result"
    }
   ],
   "source": [
    "a < b"
   ]
  },
  {
   "cell_type": "markdown",
   "metadata": {
    "id": "1D14-d5IWBi2"
   },
   "source": [
    "範例3"
   ]
  },
  {
   "cell_type": "code",
   "execution_count": 3,
   "metadata": {
    "colab": {
     "base_uri": "https://localhost:8080/",
     "height": 34
    },
    "id": "0nnLFar8WBi3",
    "outputId": "80ba232e-3ec5-4907-988c-054679089e41"
   },
   "outputs": [
    {
     "data": {
      "text/plain": [
       "False"
      ]
     },
     "execution_count": 3,
     "metadata": {},
     "output_type": "execute_result"
    }
   ],
   "source": [
    "a == b"
   ]
  },
  {
   "cell_type": "markdown",
   "metadata": {
    "id": "cSS36f3XWBi6"
   },
   "source": [
    "範例4"
   ]
  },
  {
   "cell_type": "code",
   "execution_count": 4,
   "metadata": {
    "colab": {
     "base_uri": "https://localhost:8080/",
     "height": 34
    },
    "id": "I5f-n1ahWBi6",
    "outputId": "e660e2cd-1f46-4f23-ef0d-1aef5747d5ea"
   },
   "outputs": [
    {
     "data": {
      "text/plain": [
       "True"
      ]
     },
     "execution_count": 4,
     "metadata": {},
     "output_type": "execute_result"
    }
   ],
   "source": [
    "a != b"
   ]
  },
  {
   "cell_type": "markdown",
   "metadata": {
    "id": "uWGghXV3WBi9"
   },
   "source": [
    "範例5"
   ]
  },
  {
   "cell_type": "code",
   "execution_count": 5,
   "metadata": {
    "colab": {
     "base_uri": "https://localhost:8080/",
     "height": 34
    },
    "id": "bUBCLv_vWBi_",
    "outputId": "e837fdac-d394-470b-ee57-0d7bf7acc65d"
   },
   "outputs": [
    {
     "data": {
      "text/plain": [
       "True"
      ]
     },
     "execution_count": 5,
     "metadata": {},
     "output_type": "execute_result"
    }
   ],
   "source": [
    "\"hello\" == 'hello'"
   ]
  },
  {
   "cell_type": "markdown",
   "metadata": {
    "id": "TnLQ9PlFWBjD"
   },
   "source": [
    "範例6"
   ]
  },
  {
   "cell_type": "code",
   "execution_count": 6,
   "metadata": {
    "colab": {
     "base_uri": "https://localhost:8080/",
     "height": 34
    },
    "id": "64IU7UxKWBjE",
    "outputId": "c3a6960b-2e4c-4d43-a347-da623c00df11"
   },
   "outputs": [
    {
     "data": {
      "text/plain": [
       "False"
      ]
     },
     "execution_count": 6,
     "metadata": {},
     "output_type": "execute_result"
    }
   ],
   "source": [
    "'Y' == 'y'"
   ]
  },
  {
   "cell_type": "markdown",
   "metadata": {
    "id": "ijf7bl32WBjH"
   },
   "source": [
    "範例7"
   ]
  },
  {
   "cell_type": "code",
   "execution_count": 7,
   "metadata": {
    "colab": {
     "base_uri": "https://localhost:8080/",
     "height": 34
    },
    "id": "FnjnmGwdWBjI",
    "outputId": "8f45381d-f745-4fa9-8250-940ca039eb10"
   },
   "outputs": [
    {
     "data": {
      "text/plain": [
       "True"
      ]
     },
     "execution_count": 7,
     "metadata": {},
     "output_type": "execute_result"
    }
   ],
   "source": [
    "[1,2,3] == [1,2,3]"
   ]
  },
  {
   "cell_type": "markdown",
   "metadata": {
    "id": "7XIoqIWjWBjK"
   },
   "source": [
    "範例8"
   ]
  },
  {
   "cell_type": "code",
   "execution_count": 8,
   "metadata": {
    "colab": {
     "base_uri": "https://localhost:8080/",
     "height": 34
    },
    "id": "gGtGQU2RWBjL",
    "outputId": "13f4e727-af18-42b1-e74f-23897ad7d5b4"
   },
   "outputs": [
    {
     "data": {
      "text/plain": [
       "False"
      ]
     },
     "execution_count": 8,
     "metadata": {},
     "output_type": "execute_result"
    }
   ],
   "source": [
    "'2' == 2"
   ]
  },
  {
   "cell_type": "markdown",
   "metadata": {
    "id": "4Q-6zeZHWBjO"
   },
   "source": [
    "範例9"
   ]
  },
  {
   "cell_type": "code",
   "execution_count": 9,
   "metadata": {
    "colab": {
     "base_uri": "https://localhost:8080/",
     "height": 34
    },
    "id": "tgA2o6H9WBjP",
    "outputId": "a25a16e3-ef66-4a02-aa42-33833c71b4ee"
   },
   "outputs": [
    {
     "data": {
      "text/plain": [
       "True"
      ]
     },
     "execution_count": 9,
     "metadata": {},
     "output_type": "execute_result"
    }
   ],
   "source": [
    "True and True"
   ]
  },
  {
   "cell_type": "markdown",
   "metadata": {
    "id": "aPbwHCYAWBjR"
   },
   "source": [
    "範例10"
   ]
  },
  {
   "cell_type": "code",
   "execution_count": 10,
   "metadata": {
    "colab": {
     "base_uri": "https://localhost:8080/",
     "height": 34
    },
    "id": "EPsdTWU6WBjS",
    "outputId": "9e877178-d6ca-41f1-9ed4-5c47bb2a5d28"
   },
   "outputs": [
    {
     "data": {
      "text/plain": [
       "False"
      ]
     },
     "execution_count": 10,
     "metadata": {},
     "output_type": "execute_result"
    }
   ],
   "source": [
    "True and False"
   ]
  },
  {
   "cell_type": "markdown",
   "metadata": {
    "id": "HvujRIgZWBjU"
   },
   "source": [
    "範例11"
   ]
  },
  {
   "cell_type": "code",
   "execution_count": 11,
   "metadata": {
    "colab": {
     "base_uri": "https://localhost:8080/",
     "height": 34
    },
    "id": "4dqAzRxEWBjV",
    "outputId": "057ce0f5-965c-4b91-b812-394fa7eb6684"
   },
   "outputs": [
    {
     "data": {
      "text/plain": [
       "True"
      ]
     },
     "execution_count": 11,
     "metadata": {},
     "output_type": "execute_result"
    }
   ],
   "source": [
    "True or False"
   ]
  },
  {
   "cell_type": "markdown",
   "metadata": {
    "id": "x1zf0X5LWBjX"
   },
   "source": [
    "範例12"
   ]
  },
  {
   "cell_type": "code",
   "execution_count": 12,
   "metadata": {
    "colab": {
     "base_uri": "https://localhost:8080/",
     "height": 34
    },
    "id": "ZnC4VjBCWBjY",
    "outputId": "2d08a851-22db-4feb-cedc-39cda2aa3a83"
   },
   "outputs": [
    {
     "data": {
      "text/plain": [
       "True"
      ]
     },
     "execution_count": 12,
     "metadata": {},
     "output_type": "execute_result"
    }
   ],
   "source": [
    "1<2 and 2<3"
   ]
  },
  {
   "cell_type": "markdown",
   "metadata": {
    "id": "xyP7GR9lWBjb"
   },
   "source": [
    "範例13"
   ]
  },
  {
   "cell_type": "code",
   "execution_count": 13,
   "metadata": {
    "colab": {
     "base_uri": "https://localhost:8080/",
     "height": 34
    },
    "id": "luC4pDoFWBjc",
    "outputId": "0c32f411-68ec-4565-b57f-b2ffd470e652"
   },
   "outputs": [
    {
     "data": {
      "text/plain": [
       "True"
      ]
     },
     "execution_count": 13,
     "metadata": {},
     "output_type": "execute_result"
    }
   ],
   "source": [
    "1 < 2 < 3"
   ]
  },
  {
   "cell_type": "markdown",
   "metadata": {
    "id": "ApedcTtRWBje"
   },
   "source": [
    "範例14"
   ]
  },
  {
   "cell_type": "code",
   "execution_count": 14,
   "metadata": {
    "colab": {
     "base_uri": "https://localhost:8080/",
     "height": 34
    },
    "id": "g4r5jWzcWBjf",
    "outputId": "2018fb33-31ea-405d-b936-b9f19d152daf"
   },
   "outputs": [
    {
     "data": {
      "text/plain": [
       "True"
      ]
     },
     "execution_count": 14,
     "metadata": {},
     "output_type": "execute_result"
    }
   ],
   "source": [
    "1<2 or 2>3"
   ]
  },
  {
   "cell_type": "markdown",
   "metadata": {
    "id": "bIrbu9xPWBji"
   },
   "source": [
    "範例15"
   ]
  },
  {
   "cell_type": "code",
   "execution_count": 15,
   "metadata": {
    "colab": {
     "base_uri": "https://localhost:8080/",
     "height": 34
    },
    "id": "0hc_H-fIWBjj",
    "outputId": "4ecf98c9-1088-4cf3-ff43-347e02c65795"
   },
   "outputs": [
    {
     "data": {
      "text/plain": [
       "False"
      ]
     },
     "execution_count": 15,
     "metadata": {},
     "output_type": "execute_result"
    }
   ],
   "source": [
    "not True"
   ]
  },
  {
   "cell_type": "markdown",
   "metadata": {
    "id": "ntMKJVL3WBjl"
   },
   "source": [
    "範例16"
   ]
  },
  {
   "cell_type": "code",
   "execution_count": 16,
   "metadata": {
    "colab": {
     "base_uri": "https://localhost:8080/",
     "height": 34
    },
    "id": "jp5lZ7iZWBjm",
    "outputId": "f6b91577-78e4-4c5b-938e-f987d7d8778f"
   },
   "outputs": [
    {
     "data": {
      "text/plain": [
       "1"
      ]
     },
     "execution_count": 16,
     "metadata": {},
     "output_type": "execute_result"
    }
   ],
   "source": [
    "int(True)"
   ]
  },
  {
   "cell_type": "markdown",
   "metadata": {
    "id": "noS33auUWBjp"
   },
   "source": [
    "範例17"
   ]
  },
  {
   "cell_type": "code",
   "execution_count": 17,
   "metadata": {
    "colab": {
     "base_uri": "https://localhost:8080/",
     "height": 34
    },
    "id": "xmK0zxSXWBjp",
    "outputId": "92b04624-3020-48aa-96ee-2dd2ea095409"
   },
   "outputs": [
    {
     "data": {
      "text/plain": [
       "0"
      ]
     },
     "execution_count": 17,
     "metadata": {},
     "output_type": "execute_result"
    }
   ],
   "source": [
    "int(False)"
   ]
  },
  {
   "cell_type": "markdown",
   "metadata": {
    "id": "cumy2qD-WBjr"
   },
   "source": [
    "範例18"
   ]
  },
  {
   "cell_type": "code",
   "execution_count": 18,
   "metadata": {
    "colab": {
     "base_uri": "https://localhost:8080/",
     "height": 34
    },
    "id": "YaDHEn2oWBjs",
    "outputId": "9f4f8e7a-477a-4ecc-97f5-45c7ee87ea47"
   },
   "outputs": [
    {
     "name": "stdout",
     "output_type": "stream",
     "text": [
      "a<b\n"
     ]
    }
   ],
   "source": [
    "a = 10\n",
    "b = 20\n",
    "if a > b: \n",
    "    print('a>b')\n",
    "else:\n",
    "    print('a<b')"
   ]
  },
  {
   "cell_type": "markdown",
   "metadata": {
    "id": "PPdPnwisWBju"
   },
   "source": [
    "範例19"
   ]
  },
  {
   "cell_type": "code",
   "execution_count": 19,
   "metadata": {
    "colab": {
     "base_uri": "https://localhost:8080/",
     "height": 34
    },
    "id": "q_yK-BUXWBjv",
    "outputId": "d55b6b59-53a6-4222-dbae-8e10019dfcf5"
   },
   "outputs": [
    {
     "name": "stdout",
     "output_type": "stream",
     "text": [
      "a!=b\n"
     ]
    }
   ],
   "source": [
    "if a==b:\n",
    "    print('a==b')\n",
    "else:\n",
    "    print('a!=b')"
   ]
  },
  {
   "cell_type": "markdown",
   "metadata": {
    "id": "AcoPiRTFWBjx"
   },
   "source": [
    "範例20"
   ]
  },
  {
   "cell_type": "code",
   "execution_count": 20,
   "metadata": {
    "colab": {
     "base_uri": "https://localhost:8080/",
     "height": 52
    },
    "id": "h_WLd3wsWBjy",
    "outputId": "00420f25-f07d-4d00-a3df-4e4532e053a2"
   },
   "outputs": [
    {
     "name": "stdout",
     "output_type": "stream",
     "text": [
      "請輸入兩個數值a和b:用逗號隔開 6,3\n",
      "a>b\n"
     ]
    }
   ],
   "source": [
    "a,b = input('請輸入兩個數值a和b:用逗號隔開 ').split(',')\n",
    "a=int(a)\n",
    "b=int(b)\n",
    "if a>b:\n",
    "    print('a>b')\n",
    "elif a==b:\n",
    "    print('a==b')\n",
    "else:\n",
    "    print('a<b')"
   ]
  },
  {
   "cell_type": "markdown",
   "metadata": {
    "id": "fXEDxsHaWBj0"
   },
   "source": [
    "範例21"
   ]
  },
  {
   "cell_type": "code",
   "execution_count": 21,
   "metadata": {
    "colab": {
     "base_uri": "https://localhost:8080/",
     "height": 34
    },
    "id": "pM8i8uueWBj1",
    "outputId": "87a2180f-2f43-485c-efb1-1dfe8e02ec0c"
   },
   "outputs": [
    {
     "name": "stdout",
     "output_type": "stream",
     "text": [
      "a == 10\n"
     ]
    }
   ],
   "source": [
    "a = 10\n",
    "if a==10: print('a == 10')"
   ]
  },
  {
   "cell_type": "markdown",
   "metadata": {
    "id": "H5UOGQgoWBj3"
   },
   "source": [
    "範例22"
   ]
  },
  {
   "cell_type": "code",
   "execution_count": 22,
   "metadata": {
    "colab": {
     "base_uri": "https://localhost:8080/",
     "height": 34
    },
    "id": "tfqZKFUzWBj4",
    "outputId": "aef7518f-392d-4d6b-81a5-8318de84cd7f"
   },
   "outputs": [
    {
     "name": "stdout",
     "output_type": "stream",
     "text": [
      "a<b\n"
     ]
    }
   ],
   "source": [
    "a = 10\n",
    "b = 20\n",
    "print('a>b') if a>b else print('a<b')"
   ]
  },
  {
   "cell_type": "markdown",
   "metadata": {
    "id": "Eox6st4iWBj7"
   },
   "source": [
    "範例23"
   ]
  },
  {
   "cell_type": "code",
   "execution_count": 23,
   "metadata": {
    "colab": {
     "base_uri": "https://localhost:8080/",
     "height": 34
    },
    "id": "-5-xaPaEWBj8",
    "outputId": "7e74ac0e-ea22-4231-937a-6f44160a7276"
   },
   "outputs": [
    {
     "name": "stdout",
     "output_type": "stream",
     "text": [
      "a!=b\n"
     ]
    }
   ],
   "source": [
    "print('a==b') if a==b else print('a!=b')"
   ]
  },
  {
   "cell_type": "markdown",
   "metadata": {
    "id": "FQEOPoofWBj_"
   },
   "source": [
    "範例24"
   ]
  },
  {
   "cell_type": "code",
   "execution_count": 24,
   "metadata": {
    "colab": {
     "base_uri": "https://localhost:8080/",
     "height": 34
    },
    "id": "t61Z5TkIWBkA",
    "outputId": "235cc6f4-2eaf-41ca-f6a0-9358f77734d6"
   },
   "outputs": [
    {
     "name": "stdout",
     "output_type": "stream",
     "text": [
      "a>=30\n"
     ]
    }
   ],
   "source": [
    "a=30\n",
    "print('a<15') if a<15 else print('15=<a<30') if a<30 else print('a>=30')"
   ]
  },
  {
   "cell_type": "markdown",
   "metadata": {
    "id": "-CP0AjyzWBkC"
   },
   "source": [
    "範例25"
   ]
  },
  {
   "cell_type": "code",
   "execution_count": 25,
   "metadata": {
    "colab": {
     "base_uri": "https://localhost:8080/",
     "height": 34
    },
    "id": "dYF8tUOdWBkD",
    "outputId": "c34ad078-ecae-4f45-c741-d7e56789cc49"
   },
   "outputs": [
    {
     "data": {
      "text/plain": [
       "[0, 2, 4, 6, 8, 10]"
      ]
     },
     "execution_count": 25,
     "metadata": {},
     "output_type": "execute_result"
    }
   ],
   "source": [
    "list1 = [0, 1, 2, 3, 4, 5, 6, 7, 8, 9, 10]\n",
    "[i for i in list1 if (i%2) == 0]"
   ]
  },
  {
   "cell_type": "markdown",
   "metadata": {
    "id": "32PZWSS9WBkF"
   },
   "source": [
    "範例26"
   ]
  },
  {
   "cell_type": "code",
   "execution_count": 26,
   "metadata": {
    "colab": {
     "base_uri": "https://localhost:8080/",
     "height": 34
    },
    "id": "ATWu8l4-WBkG",
    "outputId": "05197e3b-ca0f-4ddc-aa8f-a27c7b304378"
   },
   "outputs": [
    {
     "data": {
      "text/plain": [
       "['偶數0', '奇數1', '偶數2', '奇數3', '偶數4', '奇數5', '偶數6', '奇數7', '偶數8', '奇數9', '偶數10']"
      ]
     },
     "execution_count": 26,
     "metadata": {},
     "output_type": "execute_result"
    }
   ],
   "source": [
    "[f'偶數{i}' if (i%2)==0 else f'奇數{i}' for i in list1]"
   ]
  },
  {
   "cell_type": "markdown",
   "metadata": {
    "id": "3QF7x8uKWBkI"
   },
   "source": [
    "範例27"
   ]
  },
  {
   "cell_type": "code",
   "execution_count": 27,
   "metadata": {
    "colab": {
     "base_uri": "https://localhost:8080/",
     "height": 34
    },
    "id": "IlvZatuGWBkJ",
    "outputId": "e7807e0a-8ace-44ae-b5f4-debb1e61d4a9"
   },
   "outputs": [
    {
     "data": {
      "text/plain": [
       "True"
      ]
     },
     "execution_count": 27,
     "metadata": {},
     "output_type": "execute_result"
    }
   ],
   "source": [
    "s = 'abc'\n",
    "string = 'This is a abc test'\n",
    "s in string"
   ]
  },
  {
   "cell_type": "markdown",
   "metadata": {
    "id": "46dv8Q64WBkL"
   },
   "source": [
    "範例28"
   ]
  },
  {
   "cell_type": "code",
   "execution_count": 28,
   "metadata": {
    "colab": {
     "base_uri": "https://localhost:8080/",
     "height": 34
    },
    "id": "p0CExBmyWBkM",
    "outputId": "bf2af10e-31fb-414a-8bad-50fac3ff9a73"
   },
   "outputs": [
    {
     "data": {
      "text/plain": [
       "True"
      ]
     },
     "execution_count": 28,
     "metadata": {},
     "output_type": "execute_result"
    }
   ],
   "source": [
    "s = 'abc'\n",
    "string = 'This is a fabcd test'\n",
    "s in string"
   ]
  },
  {
   "cell_type": "markdown",
   "metadata": {
    "id": "JdpBH1UbWBkO"
   },
   "source": [
    "範例29"
   ]
  },
  {
   "cell_type": "code",
   "execution_count": 29,
   "metadata": {
    "colab": {
     "base_uri": "https://localhost:8080/",
     "height": 34
    },
    "id": "NkF1jpXpWBkP",
    "outputId": "10238215-b926-4de5-e98a-7e0d6282658e"
   },
   "outputs": [
    {
     "data": {
      "text/plain": [
       "True"
      ]
     },
     "execution_count": 29,
     "metadata": {},
     "output_type": "execute_result"
    }
   ],
   "source": [
    "s = 'abc'\n",
    "list1 = 'This is a abc test'.split()\n",
    "s in list1"
   ]
  },
  {
   "cell_type": "markdown",
   "metadata": {
    "id": "uhYfzcc2WBkR"
   },
   "source": [
    "範例30"
   ]
  },
  {
   "cell_type": "code",
   "execution_count": 30,
   "metadata": {
    "colab": {
     "base_uri": "https://localhost:8080/",
     "height": 34
    },
    "id": "tIKo7WJ2WBkS",
    "outputId": "d07866a5-951e-4e09-dfb8-d603014e40ae"
   },
   "outputs": [
    {
     "data": {
      "text/plain": [
       "False"
      ]
     },
     "execution_count": 30,
     "metadata": {},
     "output_type": "execute_result"
    }
   ],
   "source": [
    "s = 'abc'\n",
    "list1 = 'This is a fabcd test'.split()\n",
    "s in list1"
   ]
  },
  {
   "cell_type": "markdown",
   "metadata": {
    "id": "y22Y78V3WBkT"
   },
   "source": [
    "範例31"
   ]
  },
  {
   "cell_type": "code",
   "execution_count": 31,
   "metadata": {
    "colab": {
     "base_uri": "https://localhost:8080/",
     "height": 34
    },
    "id": "z22MEd6BWBkW",
    "outputId": "d87fb1fc-5dc7-4425-9545-fe38e5102ca9"
   },
   "outputs": [
    {
     "data": {
      "text/plain": [
       "{'Bob': 168, 'Mary': 170}"
      ]
     },
     "execution_count": 31,
     "metadata": {},
     "output_type": "execute_result"
    }
   ],
   "source": [
    "name1 = {'Billy':165,'Bob':168,'Mary':170,'Joe':168}\n",
    "{k:v for k,v in name1.items() if k in ['Bob', 'Mary']}"
   ]
  },
  {
   "cell_type": "code",
   "execution_count": null,
   "metadata": {},
   "outputs": [],
   "source": []
  }
 ],
 "metadata": {
  "colab": {
   "name": "1.6 Python - 邏輯判斷.ipynb",
   "provenance": []
  },
  "kernelspec": {
   "display_name": "Python 3",
   "language": "python",
   "name": "python3"
  },
  "language_info": {
   "codemirror_mode": {
    "name": "ipython",
    "version": 3
   },
   "file_extension": ".py",
   "mimetype": "text/x-python",
   "name": "python",
   "nbconvert_exporter": "python",
   "pygments_lexer": "ipython3",
   "version": "3.8.8"
  }
 },
 "nbformat": 4,
 "nbformat_minor": 1
}
