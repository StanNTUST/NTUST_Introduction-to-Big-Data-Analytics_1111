{
 "cells": [
  {
   "cell_type": "markdown",
   "metadata": {
    "id": "NbaFNnzCXkRh"
   },
   "source": [
    "範例1"
   ]
  },
  {
   "cell_type": "code",
   "execution_count": 1,
   "metadata": {
    "colab": {
     "base_uri": "https://localhost:8080/"
    },
    "id": "Ye8WPIO8XkRk",
    "outputId": "095f189c-98af-4e02-da61-9dcdf6bb083d"
   },
   "outputs": [
    {
     "data": {
      "text/plain": [
       "a    1\n",
       "b    2\n",
       "c    3\n",
       "d    4\n",
       "dtype: int64"
      ]
     },
     "execution_count": 1,
     "metadata": {},
     "output_type": "execute_result"
    }
   ],
   "source": [
    "import pandas as pd\n",
    "pd.Series(data=range(1,5),index=list('abcd'))"
   ]
  },
  {
   "cell_type": "markdown",
   "metadata": {
    "id": "FSNVfx2eXkRt"
   },
   "source": [
    "範例2"
   ]
  },
  {
   "cell_type": "code",
   "execution_count": 2,
   "metadata": {
    "colab": {
     "base_uri": "https://localhost:8080/",
     "height": 105
    },
    "id": "GpgAwuQ-XkRu",
    "outputId": "9b8874aa-e6d7-44ec-9375-eb324a7da7a8"
   },
   "outputs": [
    {
     "data": {
      "text/plain": [
       "0    1\n",
       "1    2\n",
       "2    3\n",
       "3    4\n",
       "dtype: int64"
      ]
     },
     "execution_count": 2,
     "metadata": {},
     "output_type": "execute_result"
    }
   ],
   "source": [
    "pd.Series(data=range(1,5))"
   ]
  },
  {
   "cell_type": "markdown",
   "metadata": {
    "id": "qwaOTU0pXkRx"
   },
   "source": [
    "範例3"
   ]
  },
  {
   "cell_type": "code",
   "execution_count": 3,
   "metadata": {
    "colab": {
     "base_uri": "https://localhost:8080/",
     "height": 34
    },
    "id": "Tb8_VMwFXkRy",
    "outputId": "2b34edb4-6568-412c-ada6-5cbe4ed9094c"
   },
   "outputs": [
    {
     "data": {
      "text/plain": [
       "pandas.core.series.Series"
      ]
     },
     "execution_count": 3,
     "metadata": {},
     "output_type": "execute_result"
    }
   ],
   "source": [
    "type(pd.Series(data=range(1,5)))"
   ]
  },
  {
   "cell_type": "markdown",
   "metadata": {
    "id": "5noBwAkyXkR0"
   },
   "source": [
    "範例4"
   ]
  },
  {
   "cell_type": "code",
   "execution_count": 4,
   "metadata": {
    "colab": {
     "base_uri": "https://localhost:8080/",
     "height": 34
    },
    "id": "njpMLECiXkR1",
    "outputId": "8e1106ec-e8d9-4e84-e549-63d7383b5195"
   },
   "outputs": [
    {
     "data": {
      "text/plain": [
       "array([1, 2, 3, 4], dtype=int64)"
      ]
     },
     "execution_count": 4,
     "metadata": {},
     "output_type": "execute_result"
    }
   ],
   "source": [
    "s = pd.Series(data=range(1,5),index=list('abcd'))\n",
    "s.values"
   ]
  },
  {
   "cell_type": "markdown",
   "metadata": {
    "id": "bq4Dk4U4XkR5"
   },
   "source": [
    "範例5"
   ]
  },
  {
   "cell_type": "code",
   "execution_count": 5,
   "metadata": {
    "colab": {
     "base_uri": "https://localhost:8080/",
     "height": 34
    },
    "id": "qZBprwv7XkR6",
    "outputId": "cc0d7820-d31f-4a72-f66e-e0b1be14dd47"
   },
   "outputs": [
    {
     "data": {
      "text/plain": [
       "Index(['a', 'b', 'c', 'd'], dtype='object')"
      ]
     },
     "execution_count": 5,
     "metadata": {},
     "output_type": "execute_result"
    }
   ],
   "source": [
    "s.index"
   ]
  },
  {
   "cell_type": "markdown",
   "metadata": {
    "id": "zrvARKR2XkR9"
   },
   "source": [
    "範例6"
   ]
  },
  {
   "cell_type": "code",
   "execution_count": 6,
   "metadata": {
    "colab": {
     "base_uri": "https://localhost:8080/",
     "height": 105
    },
    "id": "IeICoDXtXkR-",
    "outputId": "0988c08b-d0f6-48cc-f79c-8073d7dee1eb",
    "scrolled": true
   },
   "outputs": [
    {
     "data": {
      "text/plain": [
       "a    1\n",
       "b    2\n",
       "c    3\n",
       "d    4\n",
       "dtype: int64"
      ]
     },
     "execution_count": 6,
     "metadata": {},
     "output_type": "execute_result"
    }
   ],
   "source": [
    "s = pd.Series(data=range(1,5),index=list('abcd'))\n",
    "s"
   ]
  },
  {
   "cell_type": "markdown",
   "metadata": {
    "id": "X83EIuO3XkSB"
   },
   "source": [
    "範例7"
   ]
  },
  {
   "cell_type": "code",
   "execution_count": 7,
   "metadata": {
    "colab": {
     "base_uri": "https://localhost:8080/",
     "height": 34
    },
    "id": "QrH1aeqwXkSC",
    "outputId": "a785a76b-f5a9-4d97-bc55-b0abf92c1940"
   },
   "outputs": [
    {
     "data": {
      "text/plain": [
       "1"
      ]
     },
     "execution_count": 7,
     "metadata": {},
     "output_type": "execute_result"
    }
   ],
   "source": [
    "s['a']"
   ]
  },
  {
   "cell_type": "markdown",
   "metadata": {
    "id": "tHXu17MkXkSF"
   },
   "source": [
    "範例8"
   ]
  },
  {
   "cell_type": "code",
   "execution_count": 8,
   "metadata": {
    "colab": {
     "base_uri": "https://localhost:8080/",
     "height": 87
    },
    "id": "lcMTP94SXkSG",
    "outputId": "979b1b27-a597-4b9b-d034-4fa15983e847"
   },
   "outputs": [
    {
     "data": {
      "text/plain": [
       "b    2\n",
       "c    3\n",
       "d    4\n",
       "dtype: int64"
      ]
     },
     "execution_count": 8,
     "metadata": {},
     "output_type": "execute_result"
    }
   ],
   "source": [
    "s['b':'d']"
   ]
  },
  {
   "cell_type": "markdown",
   "metadata": {
    "id": "6OzIKn5wXkSI"
   },
   "source": [
    "範例9"
   ]
  },
  {
   "cell_type": "code",
   "execution_count": 9,
   "metadata": {
    "colab": {
     "base_uri": "https://localhost:8080/",
     "height": 87
    },
    "id": "9s52vtVLXkSJ",
    "outputId": "31fd9769-40eb-41b4-e96d-4e3e242e7d1b"
   },
   "outputs": [
    {
     "data": {
      "text/plain": [
       "a    1\n",
       "d    4\n",
       "c    3\n",
       "dtype: int64"
      ]
     },
     "execution_count": 9,
     "metadata": {},
     "output_type": "execute_result"
    }
   ],
   "source": [
    "s[['a','d','c']]"
   ]
  },
  {
   "cell_type": "markdown",
   "metadata": {
    "id": "WO5T0_7gXkSM"
   },
   "source": [
    "範例10"
   ]
  },
  {
   "cell_type": "code",
   "execution_count": 10,
   "metadata": {
    "colab": {
     "base_uri": "https://localhost:8080/",
     "height": 34
    },
    "id": "wAyGdmasXkSM",
    "outputId": "358bed92-c97c-4cba-acc9-26d8dc290c50"
   },
   "outputs": [
    {
     "data": {
      "text/plain": [
       "1"
      ]
     },
     "execution_count": 10,
     "metadata": {},
     "output_type": "execute_result"
    }
   ],
   "source": [
    "s[0]"
   ]
  },
  {
   "cell_type": "markdown",
   "metadata": {
    "id": "dYTcQRegXkSP"
   },
   "source": [
    "範例11"
   ]
  },
  {
   "cell_type": "code",
   "execution_count": 11,
   "metadata": {
    "colab": {
     "base_uri": "https://localhost:8080/",
     "height": 87
    },
    "id": "iDHLaaQKXkSQ",
    "outputId": "bcb85aad-28f4-40b0-ab2d-e82edad4b4b4"
   },
   "outputs": [
    {
     "data": {
      "text/plain": [
       "b    2\n",
       "c    3\n",
       "d    4\n",
       "dtype: int64"
      ]
     },
     "execution_count": 11,
     "metadata": {},
     "output_type": "execute_result"
    }
   ],
   "source": [
    "s[1:]"
   ]
  },
  {
   "cell_type": "markdown",
   "metadata": {
    "id": "trm1pIQxXkST"
   },
   "source": [
    "範例12"
   ]
  },
  {
   "cell_type": "code",
   "execution_count": 12,
   "metadata": {
    "colab": {
     "base_uri": "https://localhost:8080/",
     "height": 87
    },
    "id": "KSwKKHvdXkSU",
    "outputId": "5aa0161f-3c6f-46ef-bdd0-5589a6c2d1ca"
   },
   "outputs": [
    {
     "data": {
      "text/plain": [
       "a    1\n",
       "d    4\n",
       "c    3\n",
       "dtype: int64"
      ]
     },
     "execution_count": 12,
     "metadata": {},
     "output_type": "execute_result"
    }
   ],
   "source": [
    "s[[0,3,2]]"
   ]
  },
  {
   "cell_type": "markdown",
   "metadata": {
    "id": "41lN_okDXkSX"
   },
   "source": [
    "範例13"
   ]
  },
  {
   "cell_type": "code",
   "execution_count": 13,
   "metadata": {
    "colab": {
     "base_uri": "https://localhost:8080/",
     "height": 87
    },
    "id": "m5n5B4nQXkSY",
    "outputId": "c0719f7b-5920-4c0c-da84-72eace86af88"
   },
   "outputs": [
    {
     "data": {
      "text/plain": [
       "a    1\n",
       "b    2\n",
       "c    3\n",
       "dtype: int64"
      ]
     },
     "execution_count": 13,
     "metadata": {},
     "output_type": "execute_result"
    }
   ],
   "source": [
    "s[:3]"
   ]
  },
  {
   "cell_type": "markdown",
   "metadata": {
    "id": "WyMA0eL6XkSd"
   },
   "source": [
    "範例14"
   ]
  },
  {
   "cell_type": "code",
   "execution_count": 14,
   "metadata": {
    "colab": {
     "base_uri": "https://localhost:8080/",
     "height": 87
    },
    "id": "QPmHqmdfXkSd",
    "outputId": "43903de7-0c24-480a-8ce4-883c2b5a5616"
   },
   "outputs": [
    {
     "data": {
      "text/plain": [
       "b    2\n",
       "c    3\n",
       "d    4\n",
       "dtype: int64"
      ]
     },
     "execution_count": 14,
     "metadata": {},
     "output_type": "execute_result"
    }
   ],
   "source": [
    "s[-3:]"
   ]
  },
  {
   "cell_type": "markdown",
   "metadata": {
    "id": "0gUQix8XXkSg"
   },
   "source": [
    "範例15"
   ]
  },
  {
   "cell_type": "code",
   "execution_count": 15,
   "metadata": {
    "colab": {
     "base_uri": "https://localhost:8080/",
     "height": 105
    },
    "id": "QNOpaEXFXkSg",
    "outputId": "b84eb3a0-4f84-488f-c3f1-5bb4bf686c97"
   },
   "outputs": [
    {
     "data": {
      "text/plain": [
       "A    1\n",
       "B    2\n",
       "C    3\n",
       "D    4\n",
       "dtype: int64"
      ]
     },
     "execution_count": 15,
     "metadata": {},
     "output_type": "execute_result"
    }
   ],
   "source": [
    "s.index = list('ABCD')\n",
    "s"
   ]
  },
  {
   "cell_type": "markdown",
   "metadata": {
    "id": "VpEdA-FEXkSj"
   },
   "source": [
    "範例16"
   ]
  },
  {
   "cell_type": "code",
   "execution_count": 16,
   "metadata": {
    "colab": {
     "base_uri": "https://localhost:8080/",
     "height": 105
    },
    "id": "A4JB3LNGXkSk",
    "outputId": "952aacbb-763d-4237-f940-4cdfd7230511"
   },
   "outputs": [
    {
     "data": {
      "text/plain": [
       "AA    1\n",
       "B     2\n",
       "C     3\n",
       "D     4\n",
       "dtype: int64"
      ]
     },
     "execution_count": 16,
     "metadata": {},
     "output_type": "execute_result"
    }
   ],
   "source": [
    "s.rename({'A':'AA'}, inplace=True)\n",
    "s"
   ]
  },
  {
   "cell_type": "markdown",
   "metadata": {
    "id": "Fnjh864fXkSm"
   },
   "source": [
    "範例17"
   ]
  },
  {
   "cell_type": "code",
   "execution_count": 17,
   "metadata": {
    "colab": {
     "base_uri": "https://localhost:8080/",
     "height": 210
    },
    "id": "dz6BDhKsXkSn",
    "outputId": "ec8597bf-cbfe-4867-d366-9e10779a519f"
   },
   "outputs": [
    {
     "name": "stdout",
     "output_type": "stream",
     "text": [
      "s1的資料\n",
      "b    2\n",
      "c    3\n",
      "d    4\n",
      "dtype: int64\n",
      "\n",
      "s2的資料\n",
      "a    1\n",
      "b    2\n",
      "c    3\n",
      "dtype: int64\n"
     ]
    }
   ],
   "source": [
    "s = pd.Series(data=range(1,5),index=list('abcd'))\n",
    "s1 = s[1:] #索引鍵為'b','c','d'\n",
    "s2 = s[:-1] # 索引鍵為'a', b','c'\n",
    "print(f's1的資料\\n{s1}\\n\\ns2的資料\\n{s2}')"
   ]
  },
  {
   "cell_type": "markdown",
   "metadata": {
    "id": "Ix3fGqShXkSp"
   },
   "source": [
    "範例18"
   ]
  },
  {
   "cell_type": "code",
   "execution_count": 18,
   "metadata": {
    "colab": {
     "base_uri": "https://localhost:8080/",
     "height": 105
    },
    "id": "l6WU6x3eXkSq",
    "outputId": "c5f9542d-13ad-44b0-e18f-b4acc32a2f27"
   },
   "outputs": [
    {
     "data": {
      "text/plain": [
       "a    NaN\n",
       "b    4.0\n",
       "c    6.0\n",
       "d    NaN\n",
       "dtype: float64"
      ]
     },
     "execution_count": 18,
     "metadata": {},
     "output_type": "execute_result"
    }
   ],
   "source": [
    "s1 + s2"
   ]
  },
  {
   "cell_type": "markdown",
   "metadata": {
    "id": "7Bm5ztq-XkSs"
   },
   "source": [
    "範例19"
   ]
  },
  {
   "cell_type": "code",
   "execution_count": 19,
   "metadata": {
    "colab": {
     "base_uri": "https://localhost:8080/",
     "height": 105
    },
    "id": "AAHp_DedXkSt",
    "outputId": "f322d0e0-6e93-46b0-8a9d-c33782013ffd"
   },
   "outputs": [
    {
     "data": {
      "text/plain": [
       "a    NaN\n",
       "b    4.0\n",
       "c    9.0\n",
       "d    NaN\n",
       "dtype: float64"
      ]
     },
     "execution_count": 19,
     "metadata": {},
     "output_type": "execute_result"
    }
   ],
   "source": [
    "s1 * s2"
   ]
  },
  {
   "cell_type": "markdown",
   "metadata": {
    "id": "tKTQpJr3XkSv"
   },
   "source": [
    "範例20"
   ]
  },
  {
   "cell_type": "code",
   "execution_count": 20,
   "metadata": {
    "colab": {
     "base_uri": "https://localhost:8080/",
     "height": 105
    },
    "id": "yZrznHMIXkSw",
    "outputId": "023e0965-c436-47e4-9eda-e3a771cb948a"
   },
   "outputs": [
    {
     "data": {
      "text/plain": [
       "a    3\n",
       "b    4\n",
       "c    5\n",
       "d    6\n",
       "dtype: int64"
      ]
     },
     "execution_count": 20,
     "metadata": {},
     "output_type": "execute_result"
    }
   ],
   "source": [
    "s + 2"
   ]
  },
  {
   "cell_type": "markdown",
   "metadata": {
    "id": "vRsF1CiHXkSy"
   },
   "source": [
    "範例21"
   ]
  },
  {
   "cell_type": "code",
   "execution_count": 21,
   "metadata": {
    "colab": {
     "base_uri": "https://localhost:8080/",
     "height": 105
    },
    "id": "3EknZdjHXkSz",
    "outputId": "15311a21-76e6-48d1-e540-ec223d5cc106"
   },
   "outputs": [
    {
     "data": {
      "text/plain": [
       "a    2\n",
       "b    4\n",
       "c    6\n",
       "d    8\n",
       "dtype: int64"
      ]
     },
     "execution_count": 21,
     "metadata": {},
     "output_type": "execute_result"
    }
   ],
   "source": [
    "s * 2"
   ]
  },
  {
   "cell_type": "markdown",
   "metadata": {
    "id": "_JaL9PtAXkS2"
   },
   "source": [
    "範例22"
   ]
  },
  {
   "cell_type": "code",
   "execution_count": 22,
   "metadata": {
    "colab": {
     "base_uri": "https://localhost:8080/",
     "height": 34
    },
    "id": "YzgFP4hVXkS3",
    "outputId": "ecd2a6f2-b2f5-47c6-ebe0-78acc95161d2"
   },
   "outputs": [
    {
     "data": {
      "text/plain": [
       "10"
      ]
     },
     "execution_count": 22,
     "metadata": {},
     "output_type": "execute_result"
    }
   ],
   "source": [
    "s.sum()"
   ]
  },
  {
   "cell_type": "markdown",
   "metadata": {
    "id": "sPDJIHgMXkS6"
   },
   "source": [
    "範例23"
   ]
  },
  {
   "cell_type": "code",
   "execution_count": 23,
   "metadata": {
    "colab": {
     "base_uri": "https://localhost:8080/",
     "height": 105
    },
    "id": "DuizWl1OXkS6",
    "outputId": "30695bab-bf3a-4e0a-ce3b-f6cc90797045"
   },
   "outputs": [
    {
     "data": {
      "text/plain": [
       "a     1\n",
       "b     3\n",
       "c     6\n",
       "d    10\n",
       "dtype: int64"
      ]
     },
     "execution_count": 23,
     "metadata": {},
     "output_type": "execute_result"
    }
   ],
   "source": [
    "s.cumsum() "
   ]
  },
  {
   "cell_type": "markdown",
   "metadata": {
    "id": "CvOb4U-7XkS9"
   },
   "source": [
    "範例24"
   ]
  },
  {
   "cell_type": "code",
   "execution_count": 24,
   "metadata": {
    "colab": {
     "base_uri": "https://localhost:8080/",
     "height": 34
    },
    "id": "64EsrDsPXkS9",
    "outputId": "5fb99fac-2b91-411f-fc51-7756dd3df978"
   },
   "outputs": [
    {
     "data": {
      "text/plain": [
       "2.5"
      ]
     },
     "execution_count": 24,
     "metadata": {},
     "output_type": "execute_result"
    }
   ],
   "source": [
    "s.mean()"
   ]
  },
  {
   "cell_type": "markdown",
   "metadata": {
    "id": "VFR0CbZxXkTA"
   },
   "source": [
    "範例25"
   ]
  },
  {
   "cell_type": "code",
   "execution_count": 25,
   "metadata": {
    "colab": {
     "base_uri": "https://localhost:8080/",
     "height": 34
    },
    "id": "fS8SCdrNXkTB",
    "outputId": "aad4e86d-834f-46f7-a9b8-0ace2083a31a"
   },
   "outputs": [
    {
     "data": {
      "text/plain": [
       "1.2909944487358056"
      ]
     },
     "execution_count": 25,
     "metadata": {},
     "output_type": "execute_result"
    }
   ],
   "source": [
    "s.std()"
   ]
  },
  {
   "cell_type": "markdown",
   "metadata": {
    "id": "Qae__ec-XkTD"
   },
   "source": [
    "範例26"
   ]
  },
  {
   "cell_type": "code",
   "execution_count": 26,
   "metadata": {
    "colab": {
     "base_uri": "https://localhost:8080/",
     "height": 34
    },
    "id": "NBL3b6pSXkTE",
    "outputId": "4abad528-eaaa-4458-dac0-bd7c69a79ba8"
   },
   "outputs": [
    {
     "data": {
      "text/plain": [
       "4"
      ]
     },
     "execution_count": 26,
     "metadata": {},
     "output_type": "execute_result"
    }
   ],
   "source": [
    "s.max()"
   ]
  },
  {
   "cell_type": "markdown",
   "metadata": {
    "id": "z9Cz_IgEXkTG"
   },
   "source": [
    "範例27"
   ]
  },
  {
   "cell_type": "code",
   "execution_count": 27,
   "metadata": {
    "colab": {
     "base_uri": "https://localhost:8080/",
     "height": 34
    },
    "id": "VY05p6gaXkTG",
    "outputId": "2e9977cb-3545-41af-a6bb-350041e9b9a2"
   },
   "outputs": [
    {
     "data": {
      "text/plain": [
       "1"
      ]
     },
     "execution_count": 27,
     "metadata": {},
     "output_type": "execute_result"
    }
   ],
   "source": [
    "s.min()"
   ]
  },
  {
   "cell_type": "markdown",
   "metadata": {
    "id": "UZ5L3Ms3XkTJ"
   },
   "source": [
    "範例28"
   ]
  },
  {
   "cell_type": "code",
   "execution_count": 28,
   "metadata": {
    "colab": {
     "base_uri": "https://localhost:8080/",
     "height": 175
    },
    "id": "qYCs1WcAXkTK",
    "outputId": "aa6e35d4-df43-4055-f4fa-e16e161c3db1"
   },
   "outputs": [
    {
     "data": {
      "text/plain": [
       "count    4.000000\n",
       "mean     2.500000\n",
       "std      1.290994\n",
       "min      1.000000\n",
       "25%      1.750000\n",
       "50%      2.500000\n",
       "75%      3.250000\n",
       "max      4.000000\n",
       "dtype: float64"
      ]
     },
     "execution_count": 28,
     "metadata": {},
     "output_type": "execute_result"
    }
   ],
   "source": [
    "s.describe()"
   ]
  },
  {
   "cell_type": "markdown",
   "metadata": {
    "id": "7Y02rjKgXkTL"
   },
   "source": [
    "範例29"
   ]
  },
  {
   "cell_type": "code",
   "execution_count": 29,
   "metadata": {
    "colab": {
     "base_uri": "https://localhost:8080/",
     "height": 34
    },
    "id": "pY8jy6QqXkTM",
    "outputId": "5c2554c0-b1ed-4e9a-a24a-5157e70bcaca"
   },
   "outputs": [
    {
     "data": {
      "text/plain": [
       "4"
      ]
     },
     "execution_count": 29,
     "metadata": {},
     "output_type": "execute_result"
    }
   ],
   "source": [
    "# 第一種做法\n",
    "len(s)"
   ]
  },
  {
   "cell_type": "markdown",
   "metadata": {
    "id": "3UEH08GqXkTO"
   },
   "source": [
    "範例30"
   ]
  },
  {
   "cell_type": "code",
   "execution_count": 30,
   "metadata": {
    "colab": {
     "base_uri": "https://localhost:8080/",
     "height": 34
    },
    "id": "F3vSDEJuXkTP",
    "outputId": "8f1df700-a326-4726-a6cb-3735237c556f"
   },
   "outputs": [
    {
     "data": {
      "text/plain": [
       "4"
      ]
     },
     "execution_count": 30,
     "metadata": {},
     "output_type": "execute_result"
    }
   ],
   "source": [
    "# 第二種做法\n",
    "s.size"
   ]
  },
  {
   "cell_type": "markdown",
   "metadata": {
    "id": "Wu8bJtc0XkTQ"
   },
   "source": [
    "範例31"
   ]
  },
  {
   "cell_type": "code",
   "execution_count": 31,
   "metadata": {
    "colab": {
     "base_uri": "https://localhost:8080/",
     "height": 34
    },
    "id": "DloTWG14XkTR",
    "outputId": "f9bc6318-2e73-42cb-ed90-48e6ec4cab24"
   },
   "outputs": [
    {
     "data": {
      "text/plain": [
       "4"
      ]
     },
     "execution_count": 31,
     "metadata": {},
     "output_type": "execute_result"
    }
   ],
   "source": [
    "# 第三種做法\n",
    "s.count()"
   ]
  },
  {
   "cell_type": "markdown",
   "metadata": {
    "id": "D_E4VZ2lXkTU"
   },
   "source": [
    "範例32"
   ]
  },
  {
   "cell_type": "code",
   "execution_count": 32,
   "metadata": {
    "colab": {
     "base_uri": "https://localhost:8080/",
     "height": 193
    },
    "id": "ijERpfSWXkTV",
    "outputId": "de8af43b-002e-402a-a6c6-005b96d4d432"
   },
   "outputs": [
    {
     "data": {
      "text/plain": [
       "0    a\n",
       "1    a\n",
       "2    b\n",
       "3    b\n",
       "4    b\n",
       "5    c\n",
       "6    c\n",
       "7    d\n",
       "8    b\n",
       "dtype: object"
      ]
     },
     "execution_count": 32,
     "metadata": {},
     "output_type": "execute_result"
    }
   ],
   "source": [
    "s = pd.Series(['a','a','b','b','b','c','c','d','b'])\n",
    "s"
   ]
  },
  {
   "cell_type": "markdown",
   "metadata": {
    "id": "C4W7Ezt-XkTZ"
   },
   "source": [
    "範例33"
   ]
  },
  {
   "cell_type": "code",
   "execution_count": 33,
   "metadata": {
    "colab": {
     "base_uri": "https://localhost:8080/",
     "height": 34
    },
    "id": "bYQIOoPHXkTZ",
    "outputId": "1c42af48-7bde-4a7a-8a97-18b39f97acdb"
   },
   "outputs": [
    {
     "data": {
      "text/plain": [
       "4"
      ]
     },
     "execution_count": 33,
     "metadata": {},
     "output_type": "execute_result"
    }
   ],
   "source": [
    "s.nunique()"
   ]
  },
  {
   "cell_type": "markdown",
   "metadata": {
    "id": "UilYx4hIXkTc"
   },
   "source": [
    "範例34"
   ]
  },
  {
   "cell_type": "code",
   "execution_count": 34,
   "metadata": {
    "colab": {
     "base_uri": "https://localhost:8080/",
     "height": 34
    },
    "id": "CJ0OQPqBXkTd",
    "outputId": "3f877657-9e1f-4d0b-a7e2-bc9abbfcb42b"
   },
   "outputs": [
    {
     "data": {
      "text/plain": [
       "array(['a', 'b', 'c', 'd'], dtype=object)"
      ]
     },
     "execution_count": 34,
     "metadata": {},
     "output_type": "execute_result"
    }
   ],
   "source": [
    "s.unique()"
   ]
  },
  {
   "cell_type": "markdown",
   "metadata": {
    "id": "l0i2Ro12XkTf"
   },
   "source": [
    "範例35"
   ]
  },
  {
   "cell_type": "code",
   "execution_count": 35,
   "metadata": {
    "colab": {
     "base_uri": "https://localhost:8080/",
     "height": 105
    },
    "id": "pyrxM4fxXkTg",
    "outputId": "0e231d7e-28d0-4607-b4b7-952f988304b9"
   },
   "outputs": [
    {
     "data": {
      "text/plain": [
       "b    4\n",
       "a    2\n",
       "c    2\n",
       "d    1\n",
       "dtype: int64"
      ]
     },
     "execution_count": 35,
     "metadata": {},
     "output_type": "execute_result"
    }
   ],
   "source": [
    "s.value_counts()"
   ]
  },
  {
   "cell_type": "markdown",
   "metadata": {
    "id": "-ZzyVSK_XkTi"
   },
   "source": [
    "範例36"
   ]
  },
  {
   "cell_type": "code",
   "execution_count": 36,
   "metadata": {
    "colab": {
     "base_uri": "https://localhost:8080/",
     "height": 105
    },
    "id": "CP324sjFXkTj",
    "outputId": "38ebeeaa-3c9d-41aa-d1ee-f10581df1e6c"
   },
   "outputs": [
    {
     "data": {
      "text/plain": [
       "b    0.444444\n",
       "a    0.222222\n",
       "c    0.222222\n",
       "d    0.111111\n",
       "dtype: float64"
      ]
     },
     "execution_count": 36,
     "metadata": {},
     "output_type": "execute_result"
    }
   ],
   "source": [
    "s.value_counts(normalize=True)"
   ]
  },
  {
   "cell_type": "markdown",
   "metadata": {
    "id": "iIVi2ueWXkTl"
   },
   "source": [
    "範例37"
   ]
  },
  {
   "cell_type": "code",
   "execution_count": 37,
   "metadata": {
    "colab": {
     "base_uri": "https://localhost:8080/",
     "height": 105
    },
    "id": "R6cNAwqAXkTm",
    "outputId": "02af36a9-299d-417c-a7a4-e8ed193bd196"
   },
   "outputs": [
    {
     "data": {
      "text/plain": [
       "b    0.44\n",
       "a    0.22\n",
       "c    0.22\n",
       "d    0.11\n",
       "dtype: float64"
      ]
     },
     "execution_count": 37,
     "metadata": {},
     "output_type": "execute_result"
    }
   ],
   "source": [
    "s.value_counts(normalize=True).round(2)"
   ]
  },
  {
   "cell_type": "markdown",
   "metadata": {
    "id": "g8YgGomqXkTo"
   },
   "source": [
    "範例38"
   ]
  },
  {
   "cell_type": "code",
   "execution_count": 38,
   "metadata": {
    "colab": {
     "base_uri": "https://localhost:8080/",
     "height": 105
    },
    "id": "eMaGUNnoXkTo",
    "outputId": "4f173c06-60bc-43ea-afcc-9e34be7ed363",
    "scrolled": true
   },
   "outputs": [
    {
     "data": {
      "text/plain": [
       "a    0.22\n",
       "b    0.44\n",
       "c    0.22\n",
       "d    0.11\n",
       "dtype: float64"
      ]
     },
     "execution_count": 38,
     "metadata": {},
     "output_type": "execute_result"
    }
   ],
   "source": [
    "s.value_counts(normalize=True).round(2).sort_index()"
   ]
  },
  {
   "cell_type": "markdown",
   "metadata": {
    "id": "sqF46sWAXkTq"
   },
   "source": [
    "範例39"
   ]
  },
  {
   "cell_type": "code",
   "execution_count": 39,
   "metadata": {
    "colab": {
     "base_uri": "https://localhost:8080/",
     "height": 280
    },
    "id": "zH00PImOXkTq",
    "outputId": "330bd1d6-3839-4a39-cb87-8c11ee849253"
   },
   "outputs": [
    {
     "data": {
      "text/plain": [
       "<AxesSubplot:>"
      ]
     },
     "execution_count": 39,
     "metadata": {},
     "output_type": "execute_result"
    },
    {
     "data": {
      "image/png": "[encoded data removed]",
      "text/plain": [
       "<Figure size 432x288 with 1 Axes>"
      ]
     },
     "metadata": {
      "needs_background": "light"
     },
     "output_type": "display_data"
    }
   ],
   "source": [
    "%matplotlib inline  \n",
    "s.value_counts().sort_index().plot(kind='bar')  "
   ]
  },
  {
   "cell_type": "code",
   "execution_count": null,
   "metadata": {},
   "outputs": [],
   "source": []
  }
 ],
 "metadata": {
  "colab": {
   "collapsed_sections": [],
   "name": "2.8 Series.ipynb",
   "provenance": []
  },
  "kernelspec": {
   "display_name": "Python 3",
   "language": "python",
   "name": "python3"
  },
  "language_info": {
   "codemirror_mode": {
    "name": "ipython",
    "version": 3
   },
   "file_extension": ".py",
   "mimetype": "text/x-python",
   "name": "python",
   "nbconvert_exporter": "python",
   "pygments_lexer": "ipython3",
   "version": "3.8.8"
  }
 },
 "nbformat": 4,
 "nbformat_minor": 1
}
