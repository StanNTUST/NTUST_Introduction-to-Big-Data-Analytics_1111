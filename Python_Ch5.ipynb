{
 "cells": [
  {
   "cell_type": "markdown",
   "metadata": {
    "id": "GhVgny_nVhcV"
   },
   "source": [
    "範例1"
   ]
  },
  {
   "cell_type": "code",
   "execution_count": 1,
   "metadata": {
    "colab": {
     "base_uri": "https://localhost:8080/",
     "height": 34
    },
    "id": "BIKgt6xKVhcY",
    "outputId": "03bc7025-f261-410a-afdb-4823e0f79d1f"
   },
   "outputs": [
    {
     "name": "stdout",
     "output_type": "stream",
     "text": [
      "{'Billy': 165, 'Bob': 168, 'Mary': 170, 'Joe': 168}\n"
     ]
    }
   ],
   "source": [
    "name1 = {'Billy':165,'Bob':168,'Mary':170,'Joe':168}\n",
    "print(name1)"
   ]
  },
  {
   "cell_type": "markdown",
   "metadata": {
    "id": "Q9MKUGM2Vhcc"
   },
   "source": [
    "範例2"
   ]
  },
  {
   "cell_type": "code",
   "execution_count": 2,
   "metadata": {
    "colab": {
     "base_uri": "https://localhost:8080/",
     "height": 34
    },
    "id": "FwDSsNbxVhcd",
    "outputId": "e6518830-3ae6-455c-e72d-18e4f9c5b6a2"
   },
   "outputs": [
    {
     "name": "stdout",
     "output_type": "stream",
     "text": [
      "{'Billy': 165, 'Bob': 160, 'Mary': 170, 'Joe': 168}\n"
     ]
    }
   ],
   "source": [
    "name1 = { \n",
    "    'Billy':165,\n",
    "    'Bob':160,\n",
    "    'Mary':170,\n",
    "    'Joe':168\n",
    "}\n",
    "print(name1)"
   ]
  },
  {
   "cell_type": "markdown",
   "metadata": {
    "id": "SOvmbadjVhch"
   },
   "source": [
    "範例3"
   ]
  },
  {
   "cell_type": "code",
   "execution_count": 3,
   "metadata": {
    "colab": {
     "base_uri": "https://localhost:8080/",
     "height": 34
    },
    "id": "6rnd1q9XVhci",
    "outputId": "f37f90aa-8715-4abc-aa88-ea124144adad"
   },
   "outputs": [
    {
     "data": {
      "text/plain": [
       "{'Billy': 165, 'Bob': 168, 'Joe': 168, 'Mary': 170, '徐小訓': 172}"
      ]
     },
     "execution_count": 3,
     "metadata": {},
     "output_type": "execute_result"
    }
   ],
   "source": [
    "name2 = {}\n",
    "name2['Billy']=165 \n",
    "name2['Bob']=168\n",
    "name2['Joe']=168\n",
    "name2['Mary']=170\n",
    "name2['徐小訓']=172\n",
    "name2"
   ]
  },
  {
   "cell_type": "markdown",
   "metadata": {
    "id": "ntt8R648Vhck"
   },
   "source": [
    "範例4"
   ]
  },
  {
   "cell_type": "code",
   "execution_count": 4,
   "metadata": {
    "colab": {
     "base_uri": "https://localhost:8080/",
     "height": 34
    },
    "id": "Mu7pp3fAVhcl",
    "outputId": "43482ae9-c59c-4a22-a2bc-e9473107bedc"
   },
   "outputs": [
    {
     "data": {
      "text/plain": [
       "172"
      ]
     },
     "execution_count": 4,
     "metadata": {},
     "output_type": "execute_result"
    }
   ],
   "source": [
    "name2['徐小訓']"
   ]
  },
  {
   "cell_type": "markdown",
   "metadata": {
    "id": "vSAV2rbWVhcp"
   },
   "source": [
    "範例5"
   ]
  },
  {
   "cell_type": "code",
   "execution_count": 5,
   "metadata": {
    "colab": {
     "base_uri": "https://localhost:8080/",
     "height": 170
    },
    "id": "XIqH9cfBVhcq",
    "outputId": "3915895c-c299-4fbd-8547-b0c61502f4cd"
   },
   "outputs": [
    {
     "ename": "KeyError",
     "evalue": "'徐小'",
     "output_type": "error",
     "traceback": [
      "\u001b[1;31m---------------------------------------------------------------------------\u001b[0m",
      "\u001b[1;31mKeyError\u001b[0m                                  Traceback (most recent call last)",
      "\u001b[1;32m<ipython-input-5-cb4da799ac56>\u001b[0m in \u001b[0;36m<module>\u001b[1;34m\u001b[0m\n\u001b[1;32m----> 1\u001b[1;33m \u001b[0mname2\u001b[0m\u001b[1;33m[\u001b[0m\u001b[1;34m'徐小'\u001b[0m\u001b[1;33m]\u001b[0m\u001b[1;33m\u001b[0m\u001b[1;33m\u001b[0m\u001b[0m\n\u001b[0m",
      "\u001b[1;31mKeyError\u001b[0m: '徐小'"
     ]
    }
   ],
   "source": [
    "name2['徐小']"
   ]
  },
  {
   "cell_type": "markdown",
   "metadata": {
    "id": "JYI_4DPMVhct"
   },
   "source": [
    "範例6"
   ]
  },
  {
   "cell_type": "code",
   "execution_count": 6,
   "metadata": {
    "colab": {
     "base_uri": "https://localhost:8080/",
     "height": 34
    },
    "id": "fMItvtbFVhct",
    "outputId": "39d7e831-22c5-43c2-bba2-9f97a597d050"
   },
   "outputs": [
    {
     "name": "stdout",
     "output_type": "stream",
     "text": [
      "None\n"
     ]
    }
   ],
   "source": [
    "print(name2.get('徐小'))"
   ]
  },
  {
   "cell_type": "markdown",
   "metadata": {
    "id": "wKI8udfxVhcw"
   },
   "source": [
    "範例7"
   ]
  },
  {
   "cell_type": "code",
   "execution_count": 7,
   "metadata": {
    "colab": {
     "base_uri": "https://localhost:8080/",
     "height": 34
    },
    "id": "WZLQFtLSVhcx",
    "outputId": "e07f6960-f07a-400d-c756-a1dcd73daf27"
   },
   "outputs": [
    {
     "data": {
      "text/plain": [
       "{'Billy': 165, 'Bob': 168, 'Joe': 168, 'Mary': 170, '徐小訓': 180}"
      ]
     },
     "execution_count": 7,
     "metadata": {},
     "output_type": "execute_result"
    }
   ],
   "source": [
    "name2['徐小訓'] = 180\n",
    "name2"
   ]
  },
  {
   "cell_type": "markdown",
   "metadata": {
    "id": "W8A6jIRDVhcz"
   },
   "source": [
    "範例8"
   ]
  },
  {
   "cell_type": "code",
   "execution_count": 8,
   "metadata": {
    "colab": {
     "base_uri": "https://localhost:8080/",
     "height": 34
    },
    "id": "98_fLNtGVhc0",
    "outputId": "de36b8fa-0156-40eb-e0ec-e02cb3d38009"
   },
   "outputs": [
    {
     "data": {
      "text/plain": [
       "{'Billy': 165, 'Bob': 168, 'Joe': 168, 'Mary': 170, '徐小訓': 180, '徐小': 172}"
      ]
     },
     "execution_count": 8,
     "metadata": {},
     "output_type": "execute_result"
    }
   ],
   "source": [
    "name2['徐小'] = 172\n",
    "name2"
   ]
  },
  {
   "cell_type": "markdown",
   "metadata": {
    "id": "xVZ0MwT9Vhc3"
   },
   "source": [
    "範例9"
   ]
  },
  {
   "cell_type": "code",
   "execution_count": 9,
   "metadata": {
    "colab": {
     "base_uri": "https://localhost:8080/",
     "height": 34
    },
    "id": "ccy-TKWhVhc3",
    "outputId": "89961921-5f19-42c2-8596-323ffdccdf18"
   },
   "outputs": [
    {
     "data": {
      "text/plain": [
       "{'a': 0, 'b': 0}"
      ]
     },
     "execution_count": 9,
     "metadata": {},
     "output_type": "execute_result"
    }
   ],
   "source": [
    "list1 = [['a',0],['b',0]]\n",
    "dict1 = dict(list1)\n",
    "dict1"
   ]
  },
  {
   "cell_type": "markdown",
   "metadata": {
    "id": "HDj8PziUVhc6"
   },
   "source": [
    "範例10"
   ]
  },
  {
   "cell_type": "code",
   "execution_count": 10,
   "metadata": {
    "colab": {
     "base_uri": "https://localhost:8080/",
     "height": 34
    },
    "id": "rf4r4pxyVhc7",
    "outputId": "bcb04586-c282-4bef-b921-45dcda0042b6"
   },
   "outputs": [
    {
     "data": {
      "text/plain": [
       "{'a': 1, 'b': 2, 'c': 3, 'd': 4}"
      ]
     },
     "execution_count": 10,
     "metadata": {},
     "output_type": "execute_result"
    }
   ],
   "source": [
    "keys='abcd'\n",
    "values=[1,2,3,4]\n",
    "d = {key: value for key, value in zip(keys,values)}\n",
    "d"
   ]
  },
  {
   "cell_type": "markdown",
   "metadata": {
    "id": "5Bqp3rr4Vhc9"
   },
   "source": [
    "範例11"
   ]
  },
  {
   "cell_type": "code",
   "execution_count": 11,
   "metadata": {
    "colab": {
     "base_uri": "https://localhost:8080/",
     "height": 34
    },
    "id": "QF9v6zSmVhc-",
    "outputId": "d8981fa8-7433-4802-d27d-f24e331661db"
   },
   "outputs": [
    {
     "data": {
      "text/plain": [
       "dict_items([('Billy', 165), ('Bob', 168), ('Joe', 168), ('Mary', 170), ('徐小訓', 172)])"
      ]
     },
     "execution_count": 11,
     "metadata": {},
     "output_type": "execute_result"
    }
   ],
   "source": [
    "name2 = {'Billy': 165, 'Bob': 168, 'Joe': 168, 'Mary': 170, '徐小訓': 172}\n",
    "name2.items()"
   ]
  },
  {
   "cell_type": "markdown",
   "metadata": {
    "id": "1alWhrGzVhdA"
   },
   "source": [
    "範例12"
   ]
  },
  {
   "cell_type": "code",
   "execution_count": 12,
   "metadata": {
    "colab": {
     "base_uri": "https://localhost:8080/",
     "height": 105
    },
    "id": "TghEmkyIVhdB",
    "outputId": "ebe3a791-eaf1-445f-a456-8b62392bc0bc"
   },
   "outputs": [
    {
     "name": "stdout",
     "output_type": "stream",
     "text": [
      "Billy 165\n",
      "Bob 168\n",
      "Joe 168\n",
      "Mary 170\n",
      "徐小訓 172\n"
     ]
    }
   ],
   "source": [
    "for k,v in name2.items(): \n",
    "    print(k,v)"
   ]
  },
  {
   "cell_type": "markdown",
   "metadata": {
    "id": "o13VGwVAVhdE"
   },
   "source": [
    "範例13"
   ]
  },
  {
   "cell_type": "code",
   "execution_count": null,
   "metadata": {
    "colab": {
     "base_uri": "https://localhost:8080/",
     "height": 105
    },
    "id": "YQH-4KeHVhdF",
    "outputId": "9eca9949-1f11-4caf-e08a-fe42601a0c73"
   },
   "outputs": [
    {
     "name": "stdout",
     "output_type": "stream",
     "text": [
      "Billy 165\n",
      "Bob 168\n",
      "Joe 168\n",
      "Mary 170\n",
      "徐小訓 172\n"
     ]
    }
   ],
   "source": [
    "for k in name2.keys():\n",
    "    print(k,name2[k])"
   ]
  },
  {
   "cell_type": "markdown",
   "metadata": {
    "id": "C1BW2fEOVhdH"
   },
   "source": [
    "範例14"
   ]
  },
  {
   "cell_type": "code",
   "execution_count": 13,
   "metadata": {
    "colab": {
     "base_uri": "https://localhost:8080/",
     "height": 105
    },
    "id": "Zrz3NG-sVhdI",
    "outputId": "ec6288bd-a870-4388-edd8-da9d0332d517"
   },
   "outputs": [
    {
     "name": "stdout",
     "output_type": "stream",
     "text": [
      "165\n",
      "168\n",
      "168\n",
      "170\n",
      "172\n"
     ]
    }
   ],
   "source": [
    "for v in name2.values():\n",
    "    print(v)"
   ]
  },
  {
   "cell_type": "markdown",
   "metadata": {
    "id": "eayXD_k3VhdK"
   },
   "source": [
    "範例15"
   ]
  },
  {
   "cell_type": "code",
   "execution_count": 14,
   "metadata": {
    "colab": {
     "base_uri": "https://localhost:8080/",
     "height": 105
    },
    "id": "z_TYfnBXVhdL",
    "outputId": "af0f71b2-8c95-4263-ec11-0dd25fb0f2c2"
   },
   "outputs": [
    {
     "name": "stdout",
     "output_type": "stream",
     "text": [
      "Billy 165\n",
      "Bob 168\n",
      "Joe 168\n",
      "Mary 170\n",
      "徐小訓 172\n"
     ]
    }
   ],
   "source": [
    "for k in name2:\n",
    "    print(k,name2[k])"
   ]
  },
  {
   "cell_type": "markdown",
   "metadata": {
    "id": "yNobNo-8VhdN"
   },
   "source": [
    "範例16"
   ]
  },
  {
   "cell_type": "code",
   "execution_count": 15,
   "metadata": {
    "colab": {
     "base_uri": "https://localhost:8080/",
     "height": 105
    },
    "id": "mf-BmrD8VhdO",
    "outputId": "2ecfb493-addf-46d8-bdfa-d302b67b80dc"
   },
   "outputs": [
    {
     "name": "stdout",
     "output_type": "stream",
     "text": [
      "徐小訓 172\n",
      "Mary 170\n",
      "Joe 168\n",
      "Bob 168\n",
      "Billy 165\n"
     ]
    }
   ],
   "source": [
    "for k in sorted(name2.keys(), reverse=True):\n",
    "    print(k,name2[k])"
   ]
  },
  {
   "cell_type": "markdown",
   "metadata": {
    "id": "lQLP6qoFVhdT"
   },
   "source": [
    "範例17"
   ]
  },
  {
   "cell_type": "code",
   "execution_count": 16,
   "metadata": {
    "colab": {
     "base_uri": "https://localhost:8080/",
     "height": 34
    },
    "id": "a6ijY6BCVhdU",
    "outputId": "15610da0-bc29-4305-af57-0dc5362abaa2"
   },
   "outputs": [
    {
     "data": {
      "text/plain": [
       "{'a', 'b', 'c'}"
      ]
     },
     "execution_count": 16,
     "metadata": {},
     "output_type": "execute_result"
    }
   ],
   "source": [
    "list1 = ['a','b','c','b','b','a']\n",
    "set(list1)"
   ]
  },
  {
   "cell_type": "code",
   "execution_count": null,
   "metadata": {},
   "outputs": [],
   "source": []
  }
 ],
 "metadata": {
  "colab": {
   "name": "1.5 Python - 字典.ipynb",
   "provenance": []
  },
  "kernelspec": {
   "display_name": "Python 3",
   "language": "python",
   "name": "python3"
  },
  "language_info": {
   "codemirror_mode": {
    "name": "ipython",
    "version": 3
   },
   "file_extension": ".py",
   "mimetype": "text/x-python",
   "name": "python",
   "nbconvert_exporter": "python",
   "pygments_lexer": "ipython3",
   "version": "3.8.8"
  }
 },
 "nbformat": 4,
 "nbformat_minor": 1
}
